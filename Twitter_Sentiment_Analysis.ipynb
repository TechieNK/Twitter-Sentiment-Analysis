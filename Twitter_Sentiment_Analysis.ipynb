{
  "nbformat": 4,
  "nbformat_minor": 0,
  "metadata": {
    "colab": {
      "name": "Twitter Sentiment Analysis.ipynb",
      "provenance": [],
      "collapsed_sections": []
    },
    "kernelspec": {
      "name": "python3",
      "display_name": "Python 3"
    },
    "language_info": {
      "name": "python"
    }
  },
  "cells": [
    {
      "cell_type": "markdown",
      "metadata": {
        "id": "f78J5F6sHNIx"
      },
      "source": [
        "**Twitter Credentials**"
      ]
    },
    {
      "cell_type": "code",
      "metadata": {
        "id": "aQCITs0RG1n2"
      },
      "source": [
        "class TwitterCredentials():\n",
        "  \n",
        "  def __init__(self):\n",
        "    self.app_key=\"\"\n",
        "    self.app_secret=\"\" \n",
        "    self.oauth_token=\"\" \n",
        "    self.oauth_token_secret=\"\""
      ],
      "execution_count": 1,
      "outputs": []
    },
    {
      "cell_type": "markdown",
      "metadata": {
        "id": "CSFgosz7HT-z"
      },
      "source": [
        "**Importing Libraries**"
      ]
    },
    {
      "cell_type": "code",
      "metadata": {
        "id": "B60MCeAwEK3o"
      },
      "source": [
        "from tweepy import API \n",
        "from tweepy import Stream\n",
        "from tweepy import OAuthHandler\n",
        "from tweepy import Cursor\n",
        "from tweepy.streaming import StreamListener\n",
        "import pandas as pd\n",
        "import numpy as np\n",
        "import matplotlib.pyplot as plt\n",
        "import re"
      ],
      "execution_count": 2,
      "outputs": []
    },
    {
      "cell_type": "code",
      "metadata": {
        "id": "JiuDxRYeP1C9"
      },
      "source": [
        "from textblob import TextBlob"
      ],
      "execution_count": 3,
      "outputs": []
    },
    {
      "cell_type": "code",
      "metadata": {
        "id": "0BngJ3ToCPjy"
      },
      "source": [
        "class TwitterAuthenticator():\n",
        "\n",
        "    def authenticate_twitter_app(self):\n",
        "        twitter_credentials = TwitterCredentials()\n",
        "        auth = OAuthHandler(twitter_credentials.app_key, twitter_credentials.app_secret)\n",
        "        auth.set_access_token(twitter_credentials.oauth_token, twitter_credentials.oauth_token_secret)\n",
        "        return auth\n",
        "\n",
        "\n",
        "class TwitterClient():\n",
        "    def __init__(self, twitter_user=None):\n",
        "        self.auth = TwitterAuthenticator().authenticate_twitter_app()\n",
        "        self.twitter_client = API(self.auth)\n",
        "        self.twitter_user = twitter_user\n",
        "\n",
        "    def get_twitter_client_api(self):\n",
        "        return self.twitter_client\n",
        "\n",
        "\n",
        "class TweetAnalyzer():\n",
        "\n",
        "    def tweets_to_data_frame(self, tweets):\n",
        "        df = pd.DataFrame(data=[self.clean_tweet(tweet.text) for tweet in tweets], columns=['tweets'])\n",
        "        df['id'] = np.array([tweet.id for tweet in tweets])\n",
        "        df['len'] = np.array([len(tweet.text) for tweet in tweets])\n",
        "        df['date'] = np.array([tweet.created_at for tweet in tweets])\n",
        "        df['source'] = np.array([tweet.source for tweet in tweets])\n",
        "        df['lang'] = np.array([tweet.lang for tweet in tweets])\n",
        "        df['likes'] = np.array([tweet.favorite_count for tweet in tweets])\n",
        "        df['retweets'] = np.array([tweet.retweet_count for tweet in tweets])\n",
        "        \n",
        "        return df\n",
        "\n",
        "    def clean_tweet(self, tweet):\n",
        "        return ' '.join(re.sub(\"(@[A-Za-z0-9]+)|([^0-9A-Za-z \\t])|(\\w+:\\/\\/\\S+)\", \" \", tweet).split())\n",
        "\n",
        "    \n",
        "    def analyze_sentiment(self, tweet):\n",
        "        analysis = TextBlob(self.clean_tweet(tweet))\n",
        "        if analysis.sentiment.polarity > 0:\n",
        "            return 1\n",
        "        elif analysis.sentiment.polarity == 0:\n",
        "            return 0\n",
        "        else:\n",
        "            return -1\n",
        "    \n",
        "\n",
        "if __name__ == '__main__':\n",
        "\n",
        "    api = TwitterClient().get_twitter_client_api()\n",
        "    user_name = \"BarackObama\"\n",
        "    tweets = api.user_timeline(screen_name=user_name, count=10, exclude_replies=False, include_retweets=True)\n",
        "    tweet_analyzer = TweetAnalyzer()\n",
        "    df = tweet_analyzer.tweets_to_data_frame(tweets)\n",
        "    df['sentiment'] = np.array([tweet_analyzer.analyze_sentiment(tweet) for tweet in df['tweets']])\n",
        "    df.to_csv(user_name+'_tweets.csv')\n",
        "    print(df.head(10))\n",
        "    tweets_list = df['tweets']\n",
        "    summarized_tweet = '. '.join(tweets_list)\n",
        "    print(summarized_tweet)"
      ],
      "execution_count": null,
      "outputs": []
    }
  ]
}